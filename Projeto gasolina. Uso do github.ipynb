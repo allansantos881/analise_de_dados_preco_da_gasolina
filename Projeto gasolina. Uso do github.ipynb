{
  "nbformat": 4,
  "nbformat_minor": 0,
  "metadata": {
    "colab": {
      "provenance": []
    },
    "kernelspec": {
      "name": "python3",
      "display_name": "Python 3"
    }
  },
  "cells": [
    {
      "cell_type": "markdown",
      "metadata": {
        "id": "kzRDceCvkFj2"
      },
      "source": [
        "## 1\\. Setup"
      ]
    },
    {
      "cell_type": "markdown",
      "metadata": {
        "id": "WCQi-s0Hpd5V"
      },
      "source": [
        "Para realizar os exercicios vamos configurar o `git` e trazer o projeto do GitHub para a a máquina virtual do Google Colab (ou na sua máquina local, as instruções são as mesmas). Para tanto, replique as atividades expostas na aula 1 deste módulo."
      ]
    },
    {
      "cell_type": "markdown",
      "metadata": {
        "id": "HrTLgE0tki6P"
      },
      "source": [
        "### **1.1. Autenticação**"
      ]
    },
    {
      "cell_type": "markdown",
      "metadata": {
        "id": "7tIjNOs8q6aZ"
      },
      "source": [
        "Nesta etapa, vamos configura o `git` com suas credenciais."
      ]
    },
    {
      "cell_type": "code",
      "metadata": {
        "id": "IwTTh4VKkdKN"
      },
      "source": [
        "import os\n",
        "\n",
        "username = \"allansantos881\" # insira o seu nome de usuário do git\n",
        "os.environ[\"GITHUB_USER\"] = username\n",
        "\n",
        "!git config --global user.name \"${GITHUB_USER}\""
      ],
      "execution_count": null,
      "outputs": []
    },
    {
      "cell_type": "code",
      "metadata": {
        "id": "8gt4Y28skdKO",
        "colab": {
          "base_uri": "https://localhost:8080/"
        },
        "outputId": "9db4bd38-7e20-46b5-c8ed-04b608247e87"
      },
      "source": [
        "import os\n",
        "from getpass import getpass\n",
        "\n",
        "usermail = getpass()\n",
        "os.environ[\"GITHUB_MAIL\"] = usermail\n",
        "\n",
        "!git config --global user.email \"${GITHUB_MAIL}\""
      ],
      "execution_count": null,
      "outputs": [
        {
          "name": "stdout",
          "output_type": "stream",
          "text": [
            "··········\n"
          ]
        }
      ]
    },
    {
      "cell_type": "code",
      "metadata": {
        "id": "BS6vMNnCkdKO",
        "colab": {
          "base_uri": "https://localhost:8080/"
        },
        "outputId": "b312d8bc-d0a3-46c8-95d6-0cafc5893cc4"
      },
      "source": [
        "import os\n",
        "from getpass import getpass\n",
        "\n",
        "usertoken = getpass()\n",
        "os.environ[\"GITHUB_TOKEN\"] = usertoken"
      ],
      "execution_count": null,
      "outputs": [
        {
          "name": "stdout",
          "output_type": "stream",
          "text": [
            "··········\n"
          ]
        }
      ]
    },
    {
      "cell_type": "markdown",
      "metadata": {
        "id": "TTh7w8rgkznY"
      },
      "source": [
        "### **1.2. Projeto**"
      ]
    },
    {
      "cell_type": "markdown",
      "metadata": {
        "id": "clBerimQs2PY"
      },
      "source": [
        "Nesta etapa, vamos trazer o projeto do GitHub para máquina local."
      ]
    },
    {
      "cell_type": "code",
      "metadata": {
        "id": "fohdVuLzkdKP",
        "colab": {
          "base_uri": "https://localhost:8080/"
        },
        "outputId": "cf54c9ae-7ca4-4be6-a9b3-a5ec63930211"
      },
      "source": [
        "!git clone ssh://github.com/allansantos881/da-aposentadoria.git"
      ],
      "execution_count": null,
      "outputs": [
        {
          "output_type": "stream",
          "name": "stdout",
          "text": [
            "Cloning into 'da-aposentadoria'...\n",
            "Host key verification failed.\r\n",
            "fatal: Could not read from remote repository.\n",
            "\n",
            "Please make sure you have the correct access rights\n",
            "and the repository exists.\n"
          ]
        }
      ]
    },
    {
      "cell_type": "code",
      "metadata": {
        "id": "5-FAaAQXkdKP",
        "colab": {
          "base_uri": "https://localhost:8080/"
        },
        "outputId": "30a9ba16-2d30-4398-af18-756122af0009"
      },
      "source": [
        "%cd /content/da-aposentadoria/"
      ],
      "execution_count": null,
      "outputs": [
        {
          "output_type": "stream",
          "name": "stdout",
          "text": [
            "/content/da-aposentadoria\n"
          ]
        }
      ]
    },
    {
      "cell_type": "markdown",
      "metadata": {
        "id": "waxn4B2UDHyl"
      },
      "source": [
        "---"
      ]
    },
    {
      "cell_type": "markdown",
      "metadata": {
        "id": "finLQoyyGVmk"
      },
      "source": [
        "## 2\\. Preço da gasolina"
      ]
    },
    {
      "cell_type": "markdown",
      "metadata": {
        "id": "7dJne-O92n2v"
      },
      "source": [
        "O código abaixo gera um arquivo com o preço médio de venda da gasolina na cidade de São Paulo nos 10 primeiros dias de Julho de 2021."
      ]
    },
    {
      "cell_type": "code",
      "metadata": {
        "id": "Uhvy1LG31n1A",
        "colab": {
          "base_uri": "https://localhost:8080/"
        },
        "outputId": "cb513a64-ca12-404c-82da-0f14a6e95e41"
      },
      "source": [
        "%%writefile gasolina.csv\n",
        "dia,venda\n",
        "1,5.11\n",
        "2,4.99\n",
        "3,5.02\n",
        "4,5.21\n",
        "5,5.07\n",
        "6,5.09\n",
        "7,5.13\n",
        "8,5.12\n",
        "9,4.94\n",
        "10,5.03"
      ],
      "execution_count": null,
      "outputs": [
        {
          "output_type": "stream",
          "name": "stdout",
          "text": [
            "Writing gasolina.csv\n"
          ]
        }
      ]
    },
    {
      "cell_type": "markdown",
      "metadata": {
        "id": "eun0qdii21WO"
      },
      "source": [
        "### **2.1. Desenvolvimento**"
      ]
    },
    {
      "cell_type": "markdown",
      "metadata": {
        "id": "5MiknLIh2460"
      },
      "source": [
        "Gere uma gráfico de linha utilizando os dados do arquivo `gasolina.csv` com o dia no eixo `x`\n",
        " e o seu preço no eixo `y` utilizando os pacotes Python de sua preferência, como o Pandas e o Seaborn. Salve o gráfico no arquivo `gasolina.png` e o seu código Python de geração no arquivo `gasolina.py`."
      ]
    },
    {
      "cell_type": "code",
      "metadata": {
        "id": "PPzewPcD3Z8n",
        "colab": {
          "base_uri": "https://localhost:8080/",
          "height": 573
        },
        "outputId": "599576e7-a5de-4736-f5c5-54abb6ebcb31"
      },
      "source": [
        "import pandas as pd\n",
        "import seaborn as sns\n",
        "import matplotlib.pyplot as plt\n",
        "\n",
        "# Leitura do arquivo CSV\n",
        "df = pd.read_csv('gasolina.csv')\n",
        "\n",
        "# Configuração do estilo do gráfico\n",
        "sns.set(style=\"whitegrid\")\n",
        "\n",
        "# Criação do gráfico de linha\n",
        "plt.figure(figsize=(10, 6))\n",
        "sns.lineplot(x='dia', y='venda', data=df, marker='o', color='b', label='Preço de Venda')\n",
        "\n",
        "# Adiciona rótulos e título\n",
        "plt.title('Preço da gasolina nos 10 primeiros dias de Junho de 2021 em SP')\n",
        "plt.xlabel('Dia')\n",
        "plt.ylabel('Preço de Venda')\n",
        "\n",
        "# Adiciona legenda\n",
        "plt.legend()\n",
        "\n",
        "# Salva o gráfico como uma imagem PNG\n",
        "plt.savefig('gasolina.png')\n",
        "\n",
        "# Exibe o gráfico\n",
        "plt.show()"
      ],
      "execution_count": null,
      "outputs": [
        {
          "output_type": "display_data",
          "data": {
            "text/plain": [
              "<Figure size 1000x600 with 1 Axes>"
            ],
            "image/png": "[encoded data removed]"
          },
          "metadata": {}
        }
      ]
    },
    {
      "cell_type": "code",
      "source": [
        "!git status"
      ],
      "metadata": {
        "colab": {
          "base_uri": "https://localhost:8080/"
        },
        "id": "bo8iQleBnyM5",
        "outputId": "dac81f4e-08bc-4c7e-a346-69839e123c02"
      },
      "execution_count": null,
      "outputs": [
        {
          "output_type": "stream",
          "name": "stdout",
          "text": [
            "On branch main\n",
            "Your branch is up to date with 'origin/main'.\n",
            "\n",
            "Untracked files:\n",
            "  (use \"git add <file>...\" to include in what will be committed)\n",
            "\t\u001b[31mgasolina.csv\u001b[m\n",
            "\t\u001b[31mgasolina.png\u001b[m\n",
            "\n",
            "nothing added to commit but untracked files present (use \"git add\" to track)\n"
          ]
        }
      ]
    },
    {
      "cell_type": "markdown",
      "metadata": {
        "id": "T51dv46X3YoT"
      },
      "source": [
        "### **2.2. Git**"
      ]
    },
    {
      "cell_type": "markdown",
      "metadata": {
        "id": "iyb6rFFX3YoU"
      },
      "source": [
        "Utilizando os comandos do `git`, adicione e \"commite\" os arquivos gerados (base, código Python e gráfico)."
      ]
    },
    {
      "cell_type": "code",
      "metadata": {
        "id": "tRAunRfR4RfG"
      },
      "source": [
        "!git add ."
      ],
      "execution_count": null,
      "outputs": []
    },
    {
      "cell_type": "code",
      "source": [
        "!git commit -m \"precos da gasolina\""
      ],
      "metadata": {
        "colab": {
          "base_uri": "https://localhost:8080/"
        },
        "id": "a0zt-Bv4ovc5",
        "outputId": "4c697d0f-1b73-4eff-fbb5-9d670a47084d"
      },
      "execution_count": null,
      "outputs": [
        {
          "output_type": "stream",
          "name": "stdout",
          "text": [
            "[main 8edd2e3] precos da gasolina\n",
            " 2 files changed, 11 insertions(+)\n",
            " create mode 100644 gasolina.csv\n",
            " create mode 100644 gasolina.png\n"
          ]
        }
      ]
    },
    {
      "cell_type": "markdown",
      "metadata": {
        "id": "ozAPHQJu4P00"
      },
      "source": [
        "### **2.3. Github**"
      ]
    },
    {
      "cell_type": "markdown",
      "metadata": {
        "id": "2JkFXRdW4P01"
      },
      "source": [
        "Utilizando os comandos do `git`, envie o seu commit para o GitHub."
      ]
    },
    {
      "cell_type": "code",
      "metadata": {
        "id": "xEKWMYH75FfC",
        "colab": {
          "base_uri": "https://localhost:8080/"
        },
        "outputId": "5e3036c1-c657-4035-cb48-f49f1a7f5999"
      },
      "source": [
        "!git branch"
      ],
      "execution_count": null,
      "outputs": [
        {
          "output_type": "stream",
          "name": "stdout",
          "text": [
            "* \u001b[32mmain\u001b[m\n"
          ]
        }
      ]
    },
    {
      "cell_type": "code",
      "source": [
        "!git push origin main"
      ],
      "metadata": {
        "colab": {
          "base_uri": "https://localhost:8080/"
        },
        "id": "9FKNZc9WqDOy",
        "outputId": "0029c325-04ce-4610-9ba0-9bf239206d0d"
      },
      "execution_count": null,
      "outputs": [
        {
          "output_type": "stream",
          "name": "stdout",
          "text": [
            "fatal: could not read Username for 'https://github.com': No such device or address\n"
          ]
        }
      ]
    },
    {
      "cell_type": "markdown",
      "metadata": {
        "id": "As3enQc2GVm1"
      },
      "source": [
        "---"
      ]
    },
    {
      "cell_type": "markdown",
      "metadata": {
        "id": "GWgNoJN8DHyY"
      },
      "source": [
        "## 3\\. Arquivo README.md"
      ]
    },
    {
      "cell_type": "markdown",
      "metadata": {
        "id": "fLGLUjR_bS36"
      },
      "source": [
        "O arquivo README.md é a porta de entrada do seu projeto, é ele que será renderizado quando o seu projeto for acessado, portanto, é importante que ele esteja bem escrito. Alguns exemplos:"
      ]
    },
    {
      "cell_type": "markdown",
      "metadata": {
        "id": "KCHdysuQuaFm"
      },
      "source": [
        " - [Pandas](https://github.com/pandas-dev/pandas);\n",
        " - [Seaborn](https://github.com/mwaskom/seaborn);\n",
        " - [Spark Cluster on Docker](https://github.com/cluster-apps-on-docker/spark-standalone-cluster-on-docker), esse projeto é meu! :)"
      ]
    },
    {
      "cell_type": "markdown",
      "metadata": {
        "id": "b38h7VzCazcD"
      },
      "source": [
        "### **3.1. Desenvolvimento**"
      ]
    },
    {
      "cell_type": "markdown",
      "metadata": {
        "id": "8IqWwI7KSCf7"
      },
      "source": [
        "Altere o arquivo README.md com informações sobre seu repositório, inclua um título e uma breve descrição do repositório (no mínimo)."
      ]
    },
    {
      "cell_type": "markdown",
      "metadata": {
        "id": "jHmAgsI2vmXk"
      },
      "source": [
        "> **Dica**: o README.md pode ser configurado utilizando o padrão **markdown**, o mesmo que utilizamos nas células de texto aqui no Google Colab."
      ]
    },
    {
      "cell_type": "markdown",
      "metadata": {
        "id": "C5hnW9-Oa5cI"
      },
      "source": [
        "### **3.2. Git**"
      ]
    },
    {
      "cell_type": "markdown",
      "metadata": {
        "id": "DwPGVASH4vuX"
      },
      "source": [
        "Utilizando os comandos do `git`, adicione e \"commite\" as alterações no arquivo `README.md`."
      ]
    },
    {
      "cell_type": "code",
      "metadata": {
        "id": "LJDWXMQt4vuX"
      },
      "source": [
        "# comandos git para adicionar e commitar os arquivos"
      ],
      "execution_count": null,
      "outputs": []
    },
    {
      "cell_type": "markdown",
      "metadata": {
        "id": "NUnnxhfq49Md"
      },
      "source": [
        "### **3.3. Github**"
      ]
    },
    {
      "cell_type": "markdown",
      "metadata": {
        "id": "Kn7bwyDi49Md"
      },
      "source": [
        "Utilizando os comandos do `git`, envie o seu commit para o GitHub."
      ]
    },
    {
      "cell_type": "code",
      "metadata": {
        "id": "4h4FKhlq5KJJ"
      },
      "source": [
        "# comandos git para enviar o commit para o GitHub"
      ],
      "execution_count": null,
      "outputs": []
    }
  ]
}